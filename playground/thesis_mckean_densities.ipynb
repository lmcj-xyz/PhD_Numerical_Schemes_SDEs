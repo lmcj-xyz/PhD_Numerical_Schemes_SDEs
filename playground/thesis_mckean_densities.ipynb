{
 "cells": [
  {
   "cell_type": "code",
   "execution_count": null,
   "id": "26a33693-5971-48d4-b70e-b68875a95cff",
   "metadata": {},
   "outputs": [],
   "source": [
    "import numpy as np\n",
    "import matplotlib.pyplot as plt\n",
    "from matplotlib import rcParams\n",
    "from math import floor, log, pi, exp\n",
    "\n",
    "import os\n",
    "import sys\n",
    "sys.path.insert(0, os.path.abspath(os.path.join(os.path.dirname(__file__), '..')))\n",
    "import dsdes as ds\n",
    "import thesis_plot_functions as tpf\n",
    "\n",
    "# Graphical parameters\n",
    "params = {\n",
    "   'axes.labelsize': 8,\n",
    "   'font.size': 11,\n",
    "   'legend.fontsize': 11,\n",
    "   'xtick.labelsize': 10,\n",
    "   'ytick.labelsize': 10,\n",
    "   'text.usetex': True,\n",
    "   'figure.figsize': [10, 8],\n",
    "   'figure.constrained_layout.use': True\n",
    "   }\n",
    "rcParams.update(params)\n",
    "\n",
    "# Graph colors\n",
    "lgreen = '#00502f'\n",
    "lgreent = '#00502f88'\n",
    "lred = '#910000'\n",
    "lbrightred = '#c70000'\n",
    "lcream = '#f6eee5'\n",
    "lcoral = '#ff4a36'\n",
    "lcoralt = '#ff4a3688'\n",
    "lblack = '#212121'\n",
    "\n",
    "# Scheme parameters\n",
    "#theseed = 1392917848  # better rates\n",
    "theseed = 4392327879\n",
    "#theseed = 1334917848 # the one Jan and Elena didn't like\n",
    "rng = np.random.default_rng(seed=theseed)\n",
    "\n",
    "# Parameters to control\n",
    "hurst = 0.6\n",
    "time_steps = 2**12\n",
    "extra_steps = 2**4 # this cannot be used as I intended initially, it is being used differently\n",
    "dt = 1/time_steps\n",
    "\n",
    "points = 10**4\n",
    "half_support = 10\n",
    "\n",
    "sample_paths = 1 * 10**4\n",
    "y0 = rng.normal(size=sample_paths)\n",
    "time_start = 0\n",
    "time_end = 1"
   ]
  },
  {
   "cell_type": "code",
   "execution_count": null,
   "id": "4864a9b6-5d40-4562-b017-9060567d48f4",
   "metadata": {},
   "outputs": [],
   "source": [
    "## Nonlinear functions\n",
    "def nonlinear1(x):\n",
    "    return np.sin(x)\n",
    "\n",
    "def nonlinear2(x):\n",
    "    return np.cos(x)\n",
    "\n",
    "def nonlinear3(x):\n",
    "    return np.sin(10*x)\n",
    "\n",
    "def nonlinear4(x):\n",
    "    return np.cos(10*x)\n",
    "\n",
    "def nonlinear5(x):\n",
    "    return 1/(1 + np.exp(-100*(x - 0.2)))\n",
    "\n",
    "def nonlinear6(x):\n",
    "    return 1/(1 + np.exp(100*(x - 0.2)))"
   ]
  },
  {
   "cell_type": "code",
   "execution_count": null,
   "id": "69b6d0bb-d468-49dd-8683-9cd78df11859",
   "metadata": {},
   "outputs": [],
   "source": [
    "## Brownian motion driver\n",
    "#bm = rng.normal(loc=0.0, scale=np.sqrt(dt), size=(time_steps, sample_paths))\n",
    "bm = rng.normal(loc=0.0, scale=np.sqrt(dt), size=(time_steps*extra_steps, sample_paths))\n",
    "\n",
    "## Gaussian for fBm and random drift\n",
    "gaussian = rng.standard_normal(points)"
   ]
  },
  {
   "cell_type": "code",
   "execution_count": null,
   "id": "1de482ef-8802-4d31-ae81-3373292a52bf",
   "metadata": {},
   "outputs": [],
   "source": [
    "print('Creating drifts')\n",
    "# drifts and generators\n",
    "## I require two different time steps so I can compare the variances\n",
    "rand_drift1, ibn1, bH1, brownian_bridge1, x1, var1 = ds.drift(gaussian, hurst, points, half_support, time_steps)\n",
    "rand_drift2, ibn2, bH2, brownian_bridge2, x2, var2 = ds.drift(gaussian, hurst, points, half_support, time_steps*extra_steps)\n",
    "#weier_drift1, weier1, x3, var3 = ds.wdrift(alpha=hurst, points=points, half_support=half_support, time_steps=time_steps)\n",
    "#weier_drift2, weier2, x4, var4 = ds.wdrift(alpha=hurst, points=points, half_support=half_support, time_steps=time_steps*extra_steps)"
   ]
  },
  {
   "cell_type": "markdown",
   "id": "cb3508b1-f72d-4a53-8324-7d583c8c9d64",
   "metadata": {},
   "source": [
    "Laws and drifts for McKean equation"
   ]
  },
  {
   "cell_type": "markdown",
   "id": "653c4845-76a7-4921-beaf-964612d30b71",
   "metadata": {},
   "source": [
    "$F(x) = \\sin(x)$"
   ]
  },
  {
   "cell_type": "code",
   "execution_count": null,
   "id": "e6adc5e6-32e3-4120-8708-083ae0246f87",
   "metadata": {},
   "outputs": [],
   "source": [
    "print('Laws with sin(x)')\n",
    "rand_mvlaw1_1 = ds.solve_fp(drift_a=rand_drift1, grid_a=x1, limx=half_support, nonlinear_f=nonlinear1, ts=time_start, te=time_end, xpoints=points, tpoints=time_steps)\n",
    "rand_mvlaw1_2 = ds.solve_fp(drift_a=rand_drift2, grid_a=x2, limx=half_support, nonlinear_f=nonlinear1, ts=time_start, te=time_end, xpoints=points, tpoints=time_steps*extra_steps)\n",
    "print('Solutions with sin(x)')\n",
    "rand_mvsoln1_1 = ds.solve_mv(y0=y0, drift_array=rand_drift1, z=bm, law=rand_mvlaw1_1, time_start=time_start, time_end=time_end, time_steps=time_steps, sample_paths=sample_paths, grid=x1, half_support=half_support, xpde=points, tpde=time_steps, nl=nonlinear1)\n",
    "rand_mvsoln1_2 = ds.solve_mv(y0=y0, drift_array=rand_drift2, z=bm, law=rand_mvlaw1_2, time_start=time_start, time_end=time_end, time_steps=time_steps, sample_paths=sample_paths, grid=x2, half_support=half_support, xpde=points, tpde=time_steps, nl=nonlinear1)"
   ]
  },
  {
   "cell_type": "markdown",
   "id": "9dd70209-eb92-4ced-a5ef-402a59fea516",
   "metadata": {},
   "source": [
    "$F(x) = \\cos(x)$"
   ]
  },
  {
   "cell_type": "code",
   "execution_count": null,
   "id": "d38e0182-3b4c-44a8-86ef-843513461b81",
   "metadata": {},
   "outputs": [],
   "source": [
    "print('Laws with cos(x)')\n",
    "rand_mvlaw2_1 = ds.solve_fp(drift_a=rand_drift1, grid_a=x1, limx=half_support, nonlinear_f=nonlinear2, ts=time_start, te=time_end, xpoints=points, tpoints=time_steps)\n",
    "rand_mvlaw2_2 = ds.solve_fp(drift_a=rand_drift2, grid_a=x2, limx=half_support, nonlinear_f=nonlinear2, ts=time_start, te=time_end, xpoints=points, tpoints=time_steps*extra_steps)\n",
    "print('Solutions with cos(x)')\n",
    "rand_mvsoln2_1 = ds.solve_mv(y0=y0, drift_array=rand_drift1, z=bm, law=rand_mvlaw2_1, time_start=time_start, time_end=time_end, time_steps=time_steps, sample_paths=sample_paths, grid=x1, half_support=half_support, xpde=points, tpde=time_steps, nl=nonlinear2)\n",
    "rand_mvsoln2_2 = ds.solve_mv(y0=y0, drift_array=rand_drift2, z=bm, law=rand_mvlaw2_2, time_start=time_start, time_end=time_end, time_steps=time_steps, sample_paths=sample_paths, grid=x2, half_support=half_support, xpde=points, tpde=time_steps, nl=nonlinear2)"
   ]
  },
  {
   "cell_type": "markdown",
   "id": "f68d09e8-bf28-47ce-a2b4-942414bd9e73",
   "metadata": {},
   "source": [
    "$F(x) = \\sin(10x)$"
   ]
  },
  {
   "cell_type": "code",
   "execution_count": null,
   "id": "dff4dbc0-ac8d-4bf9-9499-10d4c8c4ec95",
   "metadata": {},
   "outputs": [],
   "source": [
    "print('Laws with sin(10x)')\n",
    "rand_mvlaw3_1 = ds.solve_fp(drift_a=rand_drift1, grid_a=x1, limx=half_support, nonlinear_f=nonlinear3, ts=time_start, te=time_end, xpoints=points, tpoints=time_steps)\n",
    "rand_mvlaw3_2 = ds.solve_fp(drift_a=rand_drift2, grid_a=x2, limx=half_support, nonlinear_f=nonlinear3, ts=time_start, te=time_end, xpoints=points, tpoints=time_steps*extra_steps)\n",
    "print('Solutions with sin(10x)')\n",
    "rand_mvsoln3_1 = ds.solve_mv(y0=y0, drift_array=rand_drift1, z=bm, law=rand_mvlaw3_1, time_start=time_start, time_end=time_end, time_steps=time_steps, sample_paths=sample_paths, grid=x1, half_support=half_support, xpde=points, tpde=time_steps, nl=nonlinear3)\n",
    "rand_mvsoln3_2 = ds.solve_mv(y0=y0, drift_array=rand_drift2, z=bm, law=rand_mvlaw3_2, time_start=time_start, time_end=time_end, time_steps=time_steps, sample_paths=sample_paths, grid=x2, half_support=half_support, xpde=points, tpde=time_steps, nl=nonlinear3)"
   ]
  },
  {
   "cell_type": "markdown",
   "id": "a3222764-c4ac-4abd-92e9-d43a4a397be2",
   "metadata": {},
   "source": [
    "$F(x) = \\cos(10x)$"
   ]
  },
  {
   "cell_type": "code",
   "execution_count": null,
   "id": "258103cb-9e20-4f65-bcbe-cf8164207efc",
   "metadata": {},
   "outputs": [],
   "source": [
    "print('Laws with cos(10x)')\n",
    "rand_mvlaw4_1 = ds.solve_fp(drift_a=rand_drift1, grid_a=x1, limx=half_support, nonlinear_f=nonlinear4, ts=time_start, te=time_end, xpoints=points, tpoints=time_steps)\n",
    "rand_mvlaw4_2 = ds.solve_fp(drift_a=rand_drift2, grid_a=x2, limx=half_support, nonlinear_f=nonlinear4, ts=time_start, te=time_end, xpoints=points, tpoints=time_steps*extra_steps)\n",
    "print('Solutions with cos(10x)')\n",
    "rand_mvsoln4_1 = ds.solve_mv(y0=y0, drift_array=rand_drift1, z=bm, law=rand_mvlaw4_1, time_start=time_start, time_end=time_end, time_steps=time_steps, sample_paths=sample_paths, grid=x1, half_support=half_support, xpde=points, tpde=time_steps, nl=nonlinear4)\n",
    "rand_mvsoln4_2 = ds.solve_mv(y0=y0, drift_array=rand_drift2, z=bm, law=rand_mvlaw4_2, time_start=time_start, time_end=time_end, time_steps=time_steps, sample_paths=sample_paths, grid=x2, half_support=half_support, xpde=points, tpde=time_steps, nl=nonlinear4)"
   ]
  },
  {
   "cell_type": "markdown",
   "id": "cb545fd8-6292-4d18-a5a3-73a9bf44d1eb",
   "metadata": {},
   "source": [
    "$F(x) = 1/(1 + e^{-100(x - 0.2)})$"
   ]
  },
  {
   "cell_type": "code",
   "execution_count": null,
   "id": "f98af789-07ed-4822-bf8a-2d0a654a6680",
   "metadata": {},
   "outputs": [],
   "source": [
    "print('Laws with -sigmoid(x)')\n",
    "rand_mvlaw5_1 = ds.solve_fp(drift_a=rand_drift1, grid_a=x1, limx=half_support, nonlinear_f=nonlinear5, ts=time_start, te=time_end, xpoints=points, tpoints=time_steps)\n",
    "rand_mvlaw5_2 = ds.solve_fp(drift_a=rand_drift2, grid_a=x2, limx=half_support, nonlinear_f=nonlinear5, ts=time_start, te=time_end, xpoints=points, tpoints=time_steps*extra_steps)\n",
    "print('Solutions with -sigmoid(x)')\n",
    "rand_mvsoln5_1 = ds.solve_mv(y0=y0, drift_array=rand_drift1, z=bm, law=rand_mvlaw5_1, time_start=time_start, time_end=time_end, time_steps=time_steps, sample_paths=sample_paths, grid=x1, half_support=half_support, xpde=points, tpde=time_steps, nl=nonlinear5)\n",
    "rand_mvsoln5_2 = ds.solve_mv(y0=y0, drift_array=rand_drift2, z=bm, law=rand_mvlaw5_2, time_start=time_start, time_end=time_end, time_steps=time_steps, sample_paths=sample_paths, grid=x2, half_support=half_support, xpde=points, tpde=time_steps, nl=nonlinear5)"
   ]
  },
  {
   "cell_type": "markdown",
   "id": "243bca79-b093-491c-b2d6-c949f641974b",
   "metadata": {},
   "source": [
    "$F(x) = 1/(1 + e^{100(x - 0.2)})$"
   ]
  },
  {
   "cell_type": "code",
   "execution_count": null,
   "id": "75c1c490-231e-45da-b093-c40418b1c1c4",
   "metadata": {},
   "outputs": [],
   "source": [
    "print('Laws with sigmoid(x)')\n",
    "rand_mvlaw6_1 = ds.solve_fp(drift_a=rand_drift1, grid_a=x1, limx=half_support, nonlinear_f=nonlinear6, ts=time_start, te=time_end, xpoints=points, tpoints=time_steps)\n",
    "rand_mvlaw6_2 = ds.solve_fp(drift_a=rand_drift2, grid_a=x2, limx=half_support, nonlinear_f=nonlinear6, ts=time_start, te=time_end, xpoints=points, tpoints=time_steps*extra_steps)\n",
    "print('Solutions with sigmoid(x)')\n",
    "rand_mvsoln6_1 = ds.solve_mv(y0=y0, drift_array=rand_drift1, z=bm, law=rand_mvlaw6_1, time_start=time_start, time_end=time_end, time_steps=time_steps, sample_paths=sample_paths, grid=x1, half_support=half_support, xpde=points, tpde=time_steps, nl=nonlinear6)\n",
    "rand_mvsoln6_2 = ds.solve_mv(y0=y0, drift_array=rand_drift2, z=bm, law=rand_mvlaw6_2, time_start=time_start, time_end=time_end, time_steps=time_steps, sample_paths=sample_paths, grid=x2, half_support=half_support, xpde=points, tpde=time_steps, nl=nonlinear6)"
   ]
  }
 ],
 "metadata": {
  "kernelspec": {
   "display_name": "Python 3 (ipykernel)",
   "language": "python",
   "name": "python3"
  },
  "language_info": {
   "codemirror_mode": {
    "name": "ipython",
    "version": 3
   },
   "file_extension": ".py",
   "mimetype": "text/x-python",
   "name": "python",
   "nbconvert_exporter": "python",
   "pygments_lexer": "ipython3",
   "version": "3.12.4"
  }
 },
 "nbformat": 4,
 "nbformat_minor": 5
}
